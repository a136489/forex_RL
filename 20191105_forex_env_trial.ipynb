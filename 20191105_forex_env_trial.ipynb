{
 "cells": [
  {
   "cell_type": "code",
   "execution_count": 58,
   "metadata": {},
   "outputs": [],
   "source": [
    "import pandas as pd\n",
    "import matplotlib.pyplot as plt\n",
    "import numpy as np"
   ]
  },
  {
   "cell_type": "code",
   "execution_count": 53,
   "metadata": {},
   "outputs": [],
   "source": [
    "ask = pd.read_csv('data/EURUSD_Candlestick_4_Hour_ASK_01.10.2019-31.10.2019.csv')\n",
    "bid = pd.read_csv('data/EURUSD_Candlestick_4_Hour_BID_01.10.2019-31.10.2019.csv')\n",
    "ask = ask.set_index(\"Gmt time\")\n",
    "bid = bid.set_index(\"Gmt time\")\n",
    "oa = ask['Open']\n",
    "ob = bid['Open']"
   ]
  },
  {
   "cell_type": "code",
   "execution_count": 33,
   "metadata": {},
   "outputs": [
    {
     "data": {
      "text/plain": [
       "<matplotlib.collections.PathCollection at 0x24a7b658ef0>"
      ]
     },
     "execution_count": 33,
     "metadata": {},
     "output_type": "execute_result"
    },
    {
     "data": {
      "image/png": "[encoded data removed]",
      "text/plain": [
       "<Figure size 936x936 with 1 Axes>"
      ]
     },
     "metadata": {
      "needs_background": "light"
     },
     "output_type": "display_data"
    }
   ],
   "source": [
    "plt.figure(figsize=(13, 13))\n",
    "plt.scatter(range(len(oa)), oa)\n",
    "plt.scatter(range(len(ob)), ob)"
   ]
  },
  {
   "cell_type": "code",
   "execution_count": 52,
   "metadata": {},
   "outputs": [
    {
     "data": {
      "text/plain": [
       "1.0888"
      ]
     },
     "execution_count": 52,
     "metadata": {},
     "output_type": "execute_result"
    }
   ],
   "source": [
    "ask[\"Open\"][\"01.10.2019 04:00:00.000\"]"
   ]
  },
  {
   "cell_type": "code",
   "execution_count": 131,
   "metadata": {},
   "outputs": [],
   "source": [
    "MONEY = 100000\n",
    "POINTS = 0"
   ]
  },
  {
   "cell_type": "code",
   "execution_count": 96,
   "metadata": {},
   "outputs": [],
   "source": [
    "def reset():\n",
    "    global MONEY, POINTS\n",
    "    MONEY = 100000\n",
    "    POINTS = 0"
   ]
  },
  {
   "cell_type": "code",
   "execution_count": 120,
   "metadata": {},
   "outputs": [],
   "source": [
    "def long(datetime, point, leverage):\n",
    "    global MONEY, POINTS\n",
    "    \n",
    "    current_bid = ask['Open'][datetime]\n",
    "    print(\"current_bid:\", current_bid)\n",
    "    price = current_bid * point / leverage\n",
    "    \n",
    "    POINTS += point\n",
    "    MONEY -= price\n",
    "    \n",
    "    print(\"買入 {} 單位 EURUSD，費用 {} 美元（槓桿X{}）\".format(point, price, leverage))\n",
    "    print(\"目前可用 {} 美元、擁有 {} 單位 EURUSD，總資產 {} 美元，\".format(MONEY, POINTS, MONEY+price))\n",
    "    \n",
    "    return (MONEY, POINTS)"
   ]
  },
  {
   "cell_type": "code",
   "execution_count": 113,
   "metadata": {},
   "outputs": [],
   "source": [
    "datetime = np.random.choice(ask.index)"
   ]
  },
  {
   "cell_type": "code",
   "execution_count": 128,
   "metadata": {},
   "outputs": [],
   "source": [
    "reset()"
   ]
  },
  {
   "cell_type": "code",
   "execution_count": 130,
   "metadata": {},
   "outputs": [
    {
     "name": "stdout",
     "output_type": "stream",
     "text": [
      "current_bid: 1.11723\n",
      "買入 1000 單位 EURUSD，費用 111.723 美元（槓桿X10）\n",
      "目前可用 99776.554 美元、擁有 2000 單位 EURUSD，總資產 99888.277 美元，\n"
     ]
    },
    {
     "data": {
      "text/plain": [
       "(99776.554, 2000)"
      ]
     },
     "execution_count": 130,
     "metadata": {},
     "output_type": "execute_result"
    }
   ],
   "source": [
    "long(datetime, 1000, 10)"
   ]
  },
  {
   "cell_type": "code",
   "execution_count": 159,
   "metadata": {},
   "outputs": [],
   "source": [
    "class State:\n",
    "    def __init__(self):\n",
    "        self.MONEY = 10000\n",
    "        self.POINTS = 0\n",
    "        self.transaction = []\n",
    "        \n",
    "    def reset(self):\n",
    "        self.MONEY = 10000\n",
    "        self.POINTS = 0\n",
    "        \n",
    "    def show(self):\n",
    "        print(self.MONEY, self.POINTS)\n",
    "        \n",
    "    def long(self, datetime, point, leverage=10):\n",
    "        current_bid = ask['Open'][datetime]\n",
    "        print(\"current_bid:\", current_bid)\n",
    "        price = current_bid * point / leverage\n",
    "\n",
    "        self.POINTS += point\n",
    "        self.MONEY -= price\n",
    "        self.transaction.append([current_bid, price, point, self.MONEY, self.POINTS])\n",
    "\n",
    "        print(\"買入 {} 單位 EURUSD，費用 {} 美元（槓桿X{}）\".format(point, price, leverage))\n",
    "        print(\"目前可用 {} 美元、擁有 {} 單位 EURUSD，總資產 {} 美元，\".format(self.MONEY, self.POINTS, self.MONEY+price))\n",
    "        \n",
    "        \n",
    "        observation = (self.MONEY, self.POINTS)\n",
    "        reward = 0\n",
    "        done = False\n",
    "        info = None\n",
    "        \n",
    "        return [observation, reward, done, info]\n",
    "    \n",
    "    def take_action(self, action):\n",
    "        pass"
   ]
  },
  {
   "cell_type": "code",
   "execution_count": 160,
   "metadata": {},
   "outputs": [],
   "source": [
    "investment = State()"
   ]
  },
  {
   "cell_type": "code",
   "execution_count": 161,
   "metadata": {},
   "outputs": [
    {
     "name": "stdout",
     "output_type": "stream",
     "text": [
      "10000 0\n"
     ]
    }
   ],
   "source": [
    "investment.show()"
   ]
  },
  {
   "cell_type": "code",
   "execution_count": 162,
   "metadata": {},
   "outputs": [],
   "source": [
    "investment.reset()"
   ]
  },
  {
   "cell_type": "code",
   "execution_count": 163,
   "metadata": {},
   "outputs": [
    {
     "name": "stdout",
     "output_type": "stream",
     "text": [
      "current_bid: 1.11723\n",
      "買入 10000 單位 EURUSD，費用 1117.23 美元（槓桿X10）\n",
      "目前可用 8882.77 美元、擁有 10000 單位 EURUSD，總資產 10000.0 美元，\n"
     ]
    },
    {
     "data": {
      "text/plain": [
       "[(8882.77, 10000), 0, False, None]"
      ]
     },
     "execution_count": 163,
     "metadata": {},
     "output_type": "execute_result"
    }
   ],
   "source": [
    "investment.long(datetime, 10000)"
   ]
  }
 ],
 "metadata": {
  "kernelspec": {
   "display_name": "Python 3",
   "language": "python",
   "name": "python3"
  },
  "language_info": {
   "codemirror_mode": {
    "name": "ipython",
    "version": 3
   },
   "file_extension": ".py",
   "mimetype": "text/x-python",
   "name": "python",
   "nbconvert_exporter": "python",
   "pygments_lexer": "ipython3",
   "version": "3.7.1"
  }
 },
 "nbformat": 4,
 "nbformat_minor": 2
}
